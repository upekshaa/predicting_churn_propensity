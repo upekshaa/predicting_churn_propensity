{
 "cells": [
  {
   "cell_type": "code",
   "execution_count": null,
   "metadata": {
    "collapsed": false
   },
   "outputs": [],
   "source": [
    "from numba import jit\n",
    "import pyodbc\n",
    "import pandas as pd \n",
    "import numpy as np \n",
    "import scipy as sp\n",
    "import random\n",
    "import operator\n",
    "import math\n",
    "%matplotlib inline\n",
    "import matplotlib\n",
    "import matplotlib.pyplot as plt\n",
    "import seaborn as sns\n",
    "from sklearn import preprocessing\n",
    "sns.set(color_codes=True)"
   ]
  },
  {
   "cell_type": "code",
   "execution_count": null,
   "metadata": {
    "collapsed": false
   },
   "outputs": [],
   "source": [
    "conn = pyodbc.connect('Trusted_Connection=yes', driver = '{SQL Server Native Client 11.0}', server = 'sql5', database = 'canadahelps_prod_repl')\n",
    "df = pd.read_sql_query('table name', conn)\n",
    "df = df.fillna(0)"
   ]
  },
  {
   "cell_type": "code",
   "execution_count": null,
   "metadata": {
    "collapsed": true
   },
   "outputs": [],
   "source": [
    "def train_validate_test_split(df, train_percent=.6, validate_percent=.2, seed=None):\n",
    "    np.random.seed(seed)\n",
    "    perm = np.random.permutation(df.index)\n",
    "    m = len(df)\n",
    "    train_end = int(train_percent * m)\n",
    "    validate_end = int(validate_percent * m) + train_end\n",
    "    train = df.ix[perm[:train_end]]\n",
    "    validate = df.ix[perm[train_end:validate_end]]\n",
    "    test = df.ix[perm[validate_end:]]\n",
    "    \n",
    "    train = train.reset_index()\n",
    "    validate = validate.reset_index()\n",
    "    test = test.reset_index()\n",
    "\n",
    "    return train, validate, test"
   ]
  },
  {
   "cell_type": "code",
   "execution_count": null,
   "metadata": {
    "collapsed": true
   },
   "outputs": [],
   "source": [
    "def euclideanDistance(instance1, instance2):    \n",
    "    distance = 0\n",
    "    diff = instance1.values - instance2.values\n",
    "    for d in diff[0]:\n",
    "        distance += pow(d,2)    \n",
    "    return math.sqrt(distance)"
   ]
  },
  {
   "cell_type": "code",
   "execution_count": null,
   "metadata": {
    "collapsed": true
   },
   "outputs": [],
   "source": [
    "def hammingDistance(instance1, instance2):\n",
    "    distance = 0 \n",
    "    product = instance1.values*instance2.values\n",
    "    for elm in product[0]:\n",
    "        distance += elm\n",
    "    return distance"
   ]
  },
  {
   "cell_type": "code",
   "execution_count": null,
   "metadata": {
    "collapsed": true
   },
   "outputs": [],
   "source": [
    "def distance(instance1, instance2):\n",
    "    \n",
    "    sizeClass_v1 = instance1.ix[:,2:5]\n",
    "    sizeClass_v2 = instance2.ix[:,2:5]\n",
    "        \n",
    "    province_v1 = instance1.ix[:,5:18]\n",
    "    province_v2 = instance2.ix[:,5:18]\n",
    "    \n",
    "    CMA_v1 = instance1.ix[:,18:51]\n",
    "    CMA_v2 = instance2.ix[:,18:51]\n",
    "    \n",
    "    category_v1 = instance1.ix[:,51:60]    \n",
    "    category_v2 = instance2.ix[:,51:60]\n",
    "    \n",
    "    daysRegistered_v1 = instance1.ix[:,60:61]\n",
    "    daysRegistered_v2 = instance2.ix[:,60:61]\n",
    "     \n",
    "    activeAge_v1 = instance1.ix[:,61:62]\n",
    "    activeAge_v2 = instance2.ix[:,61:62]\n",
    "    \n",
    "    activeDaysYr_v1 = instance1.ix[:,62:67]\n",
    "    activeDaysYr_v2 = instance2.ix[:,62:67]\n",
    "    \n",
    "    noDonors_v1 = instance1.ix[:,67:72]    \n",
    "    noDonors_v2 = instance2.ix[:,67:72]\n",
    "    \n",
    "    noDonations_v1 = instance1.ix[:,72:75]\n",
    "    noDonations_v2 = instance2.ix[:,72:75]\n",
    "    \n",
    "    dollars_v1 = instance1.ix[:,75:80]    \n",
    "    dollars_v2 = instance2.ix[:,75:80]\n",
    "    \n",
    "    dist = 0\n",
    "    sizeClass_dist = 0\n",
    "    province_dist = 0\n",
    "    CMA_dist = 0\n",
    "    category_dist = 0\n",
    "    daysRegistered_dist = 0\n",
    "    activeAge_dist = 0\n",
    "    daysSinceLastTrx_dist = 0\n",
    "    activeDaysYr_dist = 0\n",
    "    noDonors_dist = 0\n",
    "    noDonations_dist = 0\n",
    "    dollars_dist = 0\n",
    "\n",
    "    sizeClass_dist = 1/(hammingDistance(sizeClass_v1, sizeClass_v2))  \n",
    "    province_dist = 1/(hammingDistance(province_v1, province_v2))\n",
    "    CMA_dist = 1/(hammingDistance(CMA_v1, CMA_v2))   \n",
    "    category_dist = 1/(hammingDistance(category_v1, category_v2))\n",
    "    \n",
    "    hammingDist = (0.33)*sizeClass_dist + (0.33)*category_dist + (0.33)*((0.167)*province_dist + (0.833)*CMA_dist)                             \n",
    "                                  \n",
    "    daysRegistered_dist = euclideanDistance(daysRegistered_v1,daysRegistered_v2)\n",
    "    activeAge_dist = euclideanDistance(activeAge_v1, activeAge_v2)\n",
    "    activeDaysYr_dist = euclideanDistance(activeDaysYr_v1, activeDaysYr_v2)\n",
    "    noDonors_dist = euclideanDistance(noDonors_v1, noDonors_v2)\n",
    "    noDonations_dist = euclideanDistance(noDonations_v1, noDonations_v2)\n",
    "    dollars_dist = euclideanDistance(dollars_v1, dollars_v2)\n",
    "    \n",
    "    euclDist = (0.25)*daysRegistered_dist + (0.25)*activeAge_dist + (0.25)*activeDaysYr_dist \\\n",
    "                + (0.25)*((0.33)*noDonors_dist + (0.33)*noDonations_dist + (0.33)*dollars_dist)                                 \n",
    "                                  \n",
    "    dist = (0.5)*hammingDist + (0.5)*euclDist\n",
    "\n",
    "    return dist\n"
   ]
  },
  {
   "cell_type": "code",
   "execution_count": null,
   "metadata": {
    "collapsed": true
   },
   "outputs": [],
   "source": [
    "def getNeighbors(trainingSet, testInstance, k):\n",
    "    ''' Find the distance between each testInstance and each instance of the trainingSet. Store each distance value and trainingSet instance in list distances. Distances will be of form [[trainingSet instance, dist]]. Return neighbours, a list of the k trainingSet instances with the shortest distances to the test Instance.\n",
    "    '''\n",
    "    distances = []\n",
    "    \n",
    "    for x in range(len(trainingSet)):\n",
    "        dist = distance(testInstance, trainingSet.ix[[x]])\n",
    "        distances.append((trainingSet.ix[[x]], dist))\n",
    "    distances.sort(key=operator.itemgetter(1))\n",
    "    neighbors = []\n",
    "\n",
    "    for x in range(k):\n",
    "        neighbors.append(distances[x][0])\n",
    "    \n",
    "    return neighbors"
   ]
  },
  {
   "cell_type": "code",
   "execution_count": null,
   "metadata": {
    "collapsed": true
   },
   "outputs": [],
   "source": [
    "def getResponse(neighbors):\n",
    "    '''Returns the average last usage metric from the k nearest neighbours as the expected last usage date for a given charity.'''\n",
    "    \n",
    "    expectedLastUse = []\n",
    "    for x in range(len(neighbors)):\n",
    "        #response = neighbors[x].ix[1,'lastUsage']\n",
    "        response = neighbors[x].reset_index()\n",
    "        response = response.ix[0,'lastUsage']\n",
    "        expectedLastUse.append(response)\n",
    "    expectedLastUse = sum(expectedLastUse)/len(expectedLastUse)\n",
    "    \n",
    "    return expectedLastUse"
   ]
  },
  {
   "cell_type": "code",
   "execution_count": null,
   "metadata": {
    "collapsed": true
   },
   "outputs": [],
   "source": [
    "def getAccuracy(testSet, predictions):\n",
    "    correct = 0\n",
    "    for x in range(len(testSet)):\n",
    "        if testSet.ix[x,'lastUsage'] <= predictions[x]*(1.33):\n",
    "            correct += 1\n",
    "    return (correct/float(len(testSet))) * 100.0"
   ]
  },
  {
   "cell_type": "code",
   "execution_count": null,
   "metadata": {
    "collapsed": true
   },
   "outputs": [],
   "source": [
    "def main():\n",
    "    trainingSet, testSet = train_test_split(df,0.33)\n",
    "    \n",
    "    print 'Train set: ' + repr(len(trainingSet))\n",
    "    print 'Test set: ' + repr(len(testSet))\n",
    "\n",
    "    # generate predictions\n",
    "    predictions = []\n",
    "    k = 10\n",
    "    \n",
    "    for x in range(len(testSet)):\n",
    "        neighbors = getNeighbors(trainingSet, testSet.ix[[x]], k)\n",
    "        for neighbor in neighbors:\n",
    "            neighbor = neighbor.reset_index()\n",
    "        result = getResponse(neighbors)\n",
    "        predictions.append(result)\n",
    "        print('> predicted=' + repr(result) + ', actual=' + repr(testSet.ix[x,'lastUsage']))\n",
    "    accuracy = getAccuracy(testSet, predictions)\n",
    "    print('Accuracy: ' + repr(accuracy) + '%')"
   ]
  },
  {
   "cell_type": "code",
   "execution_count": null,
   "metadata": {
    "collapsed": true
   },
   "outputs": [],
   "source": [
    "main()"
   ]
  }
 ],
 "metadata": {
  "anaconda-cloud": {},
  "kernelspec": {
   "display_name": "Python [conda root]",
   "language": "python",
   "name": "conda-root-py"
  },
  "language_info": {
   "codemirror_mode": {
    "name": "ipython",
    "version": 2
   },
   "file_extension": ".py",
   "mimetype": "text/x-python",
   "name": "python",
   "nbconvert_exporter": "python",
   "pygments_lexer": "ipython2",
   "version": "2.7.12"
  }
 },
 "nbformat": 4,
 "nbformat_minor": 1
}
